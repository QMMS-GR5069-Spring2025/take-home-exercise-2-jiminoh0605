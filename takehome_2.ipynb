{
 "cells": [
  {
   "cell_type": "markdown",
   "metadata": {
    "application/vnd.databricks.v1+cell": {
     "cellMetadata": {
      "byteLimit": 2048000,
      "rowLimit": 10000
     },
     "inputWidgets": {},
     "nuid": "253519e6-71e6-4f94-8007-d5c5ef67ea28",
     "showTitle": false,
     "tableResultSettingsMap": {},
     "title": ""
    }
   },
   "source": [
    "1. [`10 pts`] What was the average time each driver spent at the pit stop for each race?\n",
    "2. [`20 pts`] Rank the average time spent at the pit stop in order of who won each race\n",
    "3. [`20 pts`] Insert the missing code (e.g: ALO for Alonso) for drivers based on the 'drivers' dataset\n",
    "4. [`20 pts`] Who is the youngest and oldest driver for each race? Create a new column called “Age”\n",
    "5. [`20 pts`] For a given race, which driver has the most wins and losses?\n",
    "6. [`10 pts`] Continue exploring the data by answering your own question.[](url)"
   ]
  },
  {
   "cell_type": "code",
   "execution_count": 0,
   "metadata": {
    "application/vnd.databricks.v1+cell": {
     "cellMetadata": {
      "byteLimit": 2048000,
      "rowLimit": 10000
     },
     "inputWidgets": {},
     "nuid": "6ebdde90-6ce7-4783-b890-cd719d7b684f",
     "showTitle": false,
     "tableResultSettingsMap": {},
     "title": ""
    }
   },
   "outputs": [],
   "source": [
    "# import relevant functions\n",
    "from pyspark.sql import functions as F\n",
    "from pyspark.sql.functions import avg\n",
    "from pyspark.sql.functions import col\n",
    "from pyspark.sql.types import IntegerType"
   ]
  },
  {
   "cell_type": "code",
   "execution_count": 0,
   "metadata": {
    "application/vnd.databricks.v1+cell": {
     "cellMetadata": {
      "byteLimit": 2048000,
      "rowLimit": 10000
     },
     "inputWidgets": {},
     "nuid": "5768f602-fcc1-4a4a-b45e-d39301d64308",
     "showTitle": false,
     "tableResultSettingsMap": {},
     "title": ""
    }
   },
   "outputs": [],
   "source": [
    "# import data\n",
    "circuits = spark.read.csv('s3://columbia-gr5069-main/raw/circuits.csv', header=True) \n",
    "constructor_results = spark.read.csv('s3://columbia-gr5069-main/raw/constructor_results.csv', header=True) \n",
    "constructor_standings = spark.read.csv('s3://columbia-gr5069-main/raw/constructor_standings.csv', header=True) \n",
    "constructors = spark.read.csv('s3://columbia-gr5069-main/raw/constructors.csv', header=True) \n",
    "driver_standings = spark.read.csv('s3://columbia-gr5069-main/raw/driver_standings.csv', header=True) \n",
    "drivers = spark.read.csv('s3://columbia-gr5069-main/raw/drivers.csv', header=True) \n",
    "lap_times = spark.read.csv('s3://columbia-gr5069-main/raw/lap_times.csv', header=True) \n",
    "pit_stops = spark.read.csv('s3://columbia-gr5069-main/raw/pit_stops.csv', header=True) \n",
    "qualifying = spark.read.csv('s3://columbia-gr5069-main/raw/qualifying.csv', header=True) \n",
    "races = spark.read.csv('s3://columbia-gr5069-main/raw/races.csv', header=True) \n",
    "results = spark.read.csv('s3://columbia-gr5069-main/raw/results.csv', header=True) \n",
    "seasons = spark.read.csv('s3://columbia-gr5069-main/raw/seasons.csv', header=True) \n",
    "sprint_results = spark.read.csv('s3://columbia-gr5069-main/raw/sprint_results.csv', header=True) \n",
    "status = spark.read.csv('s3://columbia-gr5069-main/raw/status.csv', header=True) \n",
    "winequality = spark.read.csv('s3://columbia-gr5069-main/raw/winequality-red_main.csv', header=True) "
   ]
  },
  {
   "cell_type": "code",
   "execution_count": 0,
   "metadata": {
    "application/vnd.databricks.v1+cell": {
     "cellMetadata": {
      "byteLimit": 2048000,
      "rowLimit": 10000
     },
     "inputWidgets": {},
     "nuid": "cab53cc6-af86-453c-981b-b6a77c725659",
     "showTitle": false,
     "tableResultSettingsMap": {},
     "title": ""
    }
   },
   "outputs": [],
   "source": [
    "# 1. [`10 pts`] What was the average time each driver spent at the pit stop for each race?\n",
    "\n",
    "#create new column with full name of drivers \n",
    "drivers = drivers.withColumn(\"full_name\", F.concat_ws(\" \", drivers[\"forename\"], drivers[\"surname\"]))\n",
    "\n",
    "#group by race id and driver id and calculate average duration of pit stop\n",
    "avg_times = pit_stops.groupby([\"raceId\", \"driverId\"]).agg(avg(\"duration\"))\n",
    "\n",
    "#join with drivers_combined table to get names of drivers and their average duration of pit stop\n",
    "avg_times = avg_times.join(drivers.select(\"driverId\", \"full_name\"), \"driverId\", \"left_outer\")\n",
    "\n",
    "display(avg_times)"
   ]
  },
  {
   "cell_type": "code",
   "execution_count": 0,
   "metadata": {
    "application/vnd.databricks.v1+cell": {
     "cellMetadata": {
      "byteLimit": 2048000,
      "rowLimit": 10000
     },
     "inputWidgets": {},
     "nuid": "ed5706db-18c5-48e7-8d4c-0276d048c1f7",
     "showTitle": false,
     "tableResultSettingsMap": {},
     "title": ""
    }
   },
   "outputs": [],
   "source": [
    "# 2. [`20 pts`] Rank the average time spent at the pit stop in order of who won each race\n",
    "\n",
    "# add position column to avg_times dataframe using race ID and driver ID\n",
    "avg_times = avg_times.join(results.select(\"position\", \"raceId\", \"driverId\"), on=[\"raceId\", \"driverId\"], how=\"left_outer\")\n",
    "\n",
    "# sort by race and then by position (those who do not finish the race are still grouped with the race they participated in but are at the bottom of their section)\n",
    "display(avg_times.sort(\"raceId\", F.asc(\"position\")))\n"
   ]
  },
  {
   "cell_type": "code",
   "execution_count": 0,
   "metadata": {
    "application/vnd.databricks.v1+cell": {
     "cellMetadata": {
      "byteLimit": 2048000,
      "rowLimit": 10000
     },
     "inputWidgets": {},
     "nuid": "c0c710b7-e1ee-4806-949f-fea32f3f5b61",
     "showTitle": false,
     "tableResultSettingsMap": {},
     "title": ""
    }
   },
   "outputs": [],
   "source": [
    "# 3. [`20 pts`] Insert the missing code (e.g: ALO for Alonso) for drivers based on the 'drivers' dataset\n",
    "\n",
    "# codes (first three letters of surname capitalized) added to drivers dataframe\n",
    "drivers = drivers.withColumn(\"code\", F.upper(F.substring(\"surname\", 1, 3)))\n",
    "\n",
    "display(drivers)"
   ]
  },
  {
   "cell_type": "code",
   "execution_count": 0,
   "metadata": {
    "application/vnd.databricks.v1+cell": {
     "cellMetadata": {
      "byteLimit": 2048000,
      "rowLimit": 10000
     },
     "inputWidgets": {},
     "nuid": "0d1220e2-beda-4dd4-b888-d98703ffcb59",
     "showTitle": false,
     "tableResultSettingsMap": {},
     "title": ""
    }
   },
   "outputs": [],
   "source": [
    "# 4. [`20 pts`] Who is the youngest and oldest driver for each race? Create a new column called “Age”\n",
    "\n",
    "# add driver date of birth to dataframe\n",
    "avg_times = avg_times.join(drivers.select(\"driverId\", \"dob\"), on=\"driverId\")\n",
    "\n",
    "# add date of race to dataframe\n",
    "avg_times = avg_times.join(races.select(\"raceId\", \"date\"), on=\"raceId\")\n",
    "\n",
    "# take difference between date of race and date of driver's birth and divide by 365 to get years\n",
    "avg_times = avg_times.withColumn(\"Age\", F.datediff(avg_times.date, avg_times.dob)/365)\n",
    "\n",
    "# turn age value into integer to get whole number for age of driver in years\n",
    "avg_times = avg_times.withColumn(\"Age\", avg_times[\"Age\"].cast(IntegerType()))\n",
    "display(avg_times)\n",
    "\n",
    "# create new dataframe with youngest driver (name and age) and oldest driver (name and age) for each race\n",
    "race_ages = avg_times.groupBy(\"raceId\").agg(F.min(F.struct(\"Age\", \"full_name\")).alias(\"youngest\"), F.max(F.struct(\"Age\", \"full_name\")).alias(\"oldest\"))\n",
    "display(race_ages)\n"
   ]
  },
  {
   "cell_type": "code",
   "execution_count": 0,
   "metadata": {
    "application/vnd.databricks.v1+cell": {
     "cellMetadata": {
      "byteLimit": 2048000,
      "rowLimit": 10000
     },
     "inputWidgets": {},
     "nuid": "893ccdb3-80c7-4bb9-a7d1-01eea6b3cbc2",
     "showTitle": false,
     "tableResultSettingsMap": {},
     "title": ""
    }
   },
   "outputs": [],
   "source": [
    "# 5. [`20 pts`] For a given race, which driver has the most wins and losses?\n",
    "# on a given race, provide a count of how many times a diver has won previous races, and a count of all the times a driver has not won (but completed) a race\n",
    "\n",
    "# combine race ID, date of race, driver ID, position that driver got on race, and driver name into one dataframe and sort by date\n",
    "race_dates = races.select(\"raceId\", \"date\")\n",
    "driver_df = results.select(\"raceId\", \"driverId\", \"position\").join(drivers.select(\"driverId\", \"full_name\"), on=\"driverId\")\n",
    "sorted_races = race_dates.join(driver_df, on=\"raceId\", how=\"left\").sort(\"date\", ascending=True)\n",
    "display(sorted_races)"
   ]
  },
  {
   "cell_type": "code",
   "execution_count": 0,
   "metadata": {
    "application/vnd.databricks.v1+cell": {
     "cellMetadata": {
      "byteLimit": 2048000,
      "rowLimit": 10000
     },
     "inputWidgets": {},
     "nuid": "ab02d4fc-9a06-44f9-bebf-d4fd63b5ce06",
     "showTitle": false,
     "tableResultSettingsMap": {},
     "title": ""
    }
   },
   "outputs": [],
   "source": [
    "def func(race, driver, sorted_races):\n",
    "    \"\"\"\n",
    "    function that takes in race ID, driver ID, and sorted dataframe and returns the number of wins and number of completions \n",
    "    for a given driver on a given race\n",
    "\n",
    "    Inputs:\n",
    "        race: \"raceId\"\n",
    "        driver: \"driverId\" \n",
    "        sorted_races: dataframe that contains race ID, date of race, driver ID, position that driver got on race, and driver name\n",
    "\n",
    "    Outputs:\n",
    "        win_condition: number of previous wins for specified driver on specified race\n",
    "        completion_condition: number of previous completions for specified driver on specified race\n",
    "    \"\"\"\n",
    "\n",
    "    # get date of given race using race ID\n",
    "    race_date = sorted_races.filter(col(\"raceId\") == race).first()[\"date\"]\n",
    "    \n",
    "    # select all races that come before date of given race\n",
    "    filtered = sorted_races.filter(col(\"date\") < race_date)\n",
    "\n",
    "    # select for specific driver in filtered dataframe\n",
    "    filtered_driver = filtered.filter(col(\"driverId\") == driver)\n",
    "\n",
    "    # get counts of wins for specified driver\n",
    "    win_condition = filtered_driver.filter(col(\"position\") == 1).count()\n",
    "\n",
    "    # get counts for completions (but not wins or incompletes) for specified driver\n",
    "    completed_condition = filtered_driver.filter(col(\"position\") > 1).count()\n",
    "\n",
    "    # output values for number of wins and number of completions\n",
    "    return win_condition, completed_condition\n"
   ]
  },
  {
   "cell_type": "code",
   "execution_count": 0,
   "metadata": {
    "application/vnd.databricks.v1+cell": {
     "cellMetadata": {
      "byteLimit": 2048000,
      "rowLimit": 10000
     },
     "inputWidgets": {},
     "nuid": "4cb0a8a4-86a8-4fbe-b2b4-8ead8df979c4",
     "showTitle": false,
     "tableResultSettingsMap": {},
     "title": ""
    }
   },
   "outputs": [],
   "source": [
    "def apply_func_to_multiple_drivers(race, sorted_races):\n",
    "    \"\"\"\n",
    "    function that applies the \"func\" functions (see above) to all drivers in a given race\n",
    "\n",
    "    Inputs:\n",
    "        race: \"raceId\"\n",
    "        sorted_races: dataframe that contains race ID, date of race, driver ID, position that driver got on race, and driver name\n",
    "\n",
    "    Outputs:\n",
    "        driver_performance: dictionary that contains the number of previous wins and completions for each driver in a given race\n",
    "    \"\"\"\n",
    "\n",
    "    # get all drivers that participated in given race\n",
    "    drivers_in_race = sorted_races.filter(col(\"raceId\") == race).select(\"driverId\").distinct().collect()\n",
    "\n",
    "    # create dictionary to store the results for each driver\n",
    "    driver_performance = {}\n",
    "\n",
    "    # apply win and completion function to each driver\n",
    "    for driver_row in drivers_in_race:\n",
    "        driver_id = driver_row[\"driverId\"]\n",
    "        \n",
    "        #call func for the specific race and driver\n",
    "        win_condition, completed_condition = func(race, driver_id, sorted_races)\n",
    "        \n",
    "        #store results in the dictionary\n",
    "        driver_performance[driver_id] = {\n",
    "            \"win_condition\": win_condition,\n",
    "            \"completed_condition\": completed_condition\n",
    "        }\n",
    "\n",
    "    # output previous wins and completions for each driver in given race\n",
    "    return driver_performance"
   ]
  },
  {
   "cell_type": "code",
   "execution_count": 0,
   "metadata": {
    "application/vnd.databricks.v1+cell": {
     "cellMetadata": {
      "byteLimit": 2048000,
      "rowLimit": 10000
     },
     "inputWidgets": {},
     "nuid": "c96d89bb-d5a6-4910-b25f-883d57b32d8b",
     "showTitle": false,
     "tableResultSettingsMap": {},
     "title": ""
    }
   },
   "outputs": [],
   "source": [
    "# use function to see previous wins and completions for each driver in race 536\n",
    "apply_func_to_multiple_drivers(536, sorted_races)"
   ]
  }
 ],
 "metadata": {
  "application/vnd.databricks.v1+notebook": {
   "computePreferences": null,
   "dashboards": [],
   "environmentMetadata": {
    "base_environment": "",
    "environment_version": "2"
   },
   "language": "python",
   "notebookMetadata": {
    "pythonIndentUnit": 4
   },
   "notebookName": "takehome_2",
   "widgets": {}
  },
  "language_info": {
   "name": "python"
  }
 },
 "nbformat": 4,
 "nbformat_minor": 0
}
