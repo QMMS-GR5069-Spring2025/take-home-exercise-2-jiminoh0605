{
 "cells": [
  {
   "cell_type": "markdown",
   "metadata": {
    "application/vnd.databricks.v1+cell": {
     "cellMetadata": {
      "byteLimit": 2048000,
      "rowLimit": 10000
     },
     "inputWidgets": {},
     "nuid": "253519e6-71e6-4f94-8007-d5c5ef67ea28",
     "showTitle": false,
     "tableResultSettingsMap": {},
     "title": ""
    }
   },
   "source": [
    "1. [`10 pts`] What was the average time each driver spent at the pit stop for each race?\n",
    "2. [`20 pts`] Rank the average time spent at the pit stop in order of who won each race\n",
    "3. [`20 pts`] Insert the missing code (e.g: ALO for Alonso) for drivers based on the 'drivers' dataset\n",
    "4. [`20 pts`] Who is the youngest and oldest driver for each race? Create a new column called “Age”\n",
    "5. [`20 pts`] For a given race, which driver has the most wins and losses?\n",
    "6. [`10 pts`] Continue exploring the data by answering your own question.[](url)"
   ]
  },
  {
   "cell_type": "code",
   "execution_count": 0,
   "metadata": {
    "application/vnd.databricks.v1+cell": {
     "cellMetadata": {
      "byteLimit": 2048000,
      "rowLimit": 10000
     },
     "inputWidgets": {},
     "nuid": "6ebdde90-6ce7-4783-b890-cd719d7b684f",
     "showTitle": false,
     "tableResultSettingsMap": {},
     "title": ""
    }
   },
   "outputs": [],
   "source": [
    "# import relevant functions\n",
    "from pyspark.sql import functions as F\n",
    "from pyspark.sql.functions import avg\n",
    "from pyspark.sql.functions import col\n",
    "from pyspark.sql.types import IntegerType"
   ]
  },
  {
   "cell_type": "code",
   "execution_count": 0,
   "metadata": {
    "application/vnd.databricks.v1+cell": {
     "cellMetadata": {
      "byteLimit": 2048000,
      "rowLimit": 10000
     },
     "inputWidgets": {},
     "nuid": "5768f602-fcc1-4a4a-b45e-d39301d64308",
     "showTitle": false,
     "tableResultSettingsMap": {},
     "title": ""
    }
   },
   "outputs": [],
   "source": [
    "# import data\n",
    "circuits = spark.read.csv('s3://columbia-gr5069-main/raw/circuits.csv', header=True) \n",
    "constructor_results = spark.read.csv('s3://columbia-gr5069-main/raw/constructor_results.csv', header=True) \n",
    "constructor_standings = spark.read.csv('s3://columbia-gr5069-main/raw/constructor_standings.csv', header=True) \n",
    "constructors = spark.read.csv('s3://columbia-gr5069-main/raw/constructors.csv', header=True) \n",
    "driver_standings = spark.read.csv('s3://columbia-gr5069-main/raw/driver_standings.csv', header=True) \n",
    "drivers = spark.read.csv('s3://columbia-gr5069-main/raw/drivers.csv', header=True) \n",
    "lap_times = spark.read.csv('s3://columbia-gr5069-main/raw/lap_times.csv', header=True) \n",
    "pit_stops = spark.read.csv('s3://columbia-gr5069-main/raw/pit_stops.csv', header=True) \n",
    "qualifying = spark.read.csv('s3://columbia-gr5069-main/raw/qualifying.csv', header=True) \n",
    "races = spark.read.csv('s3://columbia-gr5069-main/raw/races.csv', header=True) \n",
    "results = spark.read.csv('s3://columbia-gr5069-main/raw/results.csv', header=True) \n",
    "seasons = spark.read.csv('s3://columbia-gr5069-main/raw/seasons.csv', header=True) \n",
    "sprint_results = spark.read.csv('s3://columbia-gr5069-main/raw/sprint_results.csv', header=True) \n",
    "status = spark.read.csv('s3://columbia-gr5069-main/raw/status.csv', header=True) \n",
    "winequality = spark.read.csv('s3://columbia-gr5069-main/raw/winequality-red_main.csv', header=True) "
   ]
  },
  {
   "cell_type": "code",
   "execution_count": 0,
   "metadata": {
    "application/vnd.databricks.v1+cell": {
     "cellMetadata": {
      "byteLimit": 2048000,
      "rowLimit": 10000
     },
     "inputWidgets": {},
     "nuid": "cab53cc6-af86-453c-981b-b6a77c725659",
     "showTitle": false,
     "tableResultSettingsMap": {},
     "title": ""
    }
   },
   "outputs": [],
   "source": [
    "#1. [`10 pts`] What was the average time each driver spent at the pit stop for each race?\n",
    "\n",
    "#create new column with full name of drivers \n",
    "drivers = drivers.withColumn(\"full_name\", F.concat_ws(\" \", drivers[\"forename\"], drivers[\"surname\"]))\n",
    "\n",
    "#group by race id and driver id and calculate average duration of pit stop\n",
    "avg_times = pit_stops.groupby([\"raceId\", \"driverId\"]).agg(avg(\"duration\"))\n",
    "\n",
    "#join with drivers_combined table to get names of drivers and their average duration of pit stop\n",
    "avg_times = avg_times.join(drivers.select(\"driverId\", \"full_name\"), \"driverId\", \"left_outer\")\n",
    "\n",
    "display(avg_times)"
   ]
  }
 ],
 "metadata": {
  "application/vnd.databricks.v1+notebook": {
   "computePreferences": null,
   "dashboards": [],
   "environmentMetadata": {
    "base_environment": "",
    "environment_version": "2"
   },
   "language": "python",
   "notebookMetadata": {
    "pythonIndentUnit": 4
   },
   "notebookName": "takehome_2",
   "widgets": {}
  },
  "language_info": {
   "name": "python"
  }
 },
 "nbformat": 4,
 "nbformat_minor": 0
}
